{
 "cells": [
  {
   "cell_type": "code",
   "execution_count": null,
   "id": "87dc4034",
   "metadata": {},
   "outputs": [],
   "source": [
    "#Set Comprehension\n",
    "#Creation of Sets\n",
    "\n",
    "#Create a set that has all of the first the 13 original states in the United states of America. \n",
    "#Print a new set which comprises of states that begin with the Letter using list comprehension + lower()\n",
    "\n",
    "#A set that comprises of the first 13 original states\n",
    "original_states = {'New Hampshire', 'Massachusetts', 'Rhode Island', 'Connecticut', 'New York', 'New Jersey', 'Pennsylvania', 'Delaware', 'Maryland', 'Virginia', 'North Carolina', 'South Carolina', 'Georgia'}\n",
    "\n",
    "#Setting the lookup letter\n",
    "check = 'N'\n",
    "\n",
    "#Printing original list\n",
    "print(\"The original list : \" + str(original_states))\n",
    "  \n",
    "#Using list comprehension + lower() to find Words starting with specific letter\n",
    "states = [idx for idx in original_states if idx[0].lower() == check.lower()]\n",
    "  \n",
    "#Printing the results\n",
    "print(\"The list of matching first letter : \" + str(states))"
   ]
  },
  {
   "cell_type": "code",
   "execution_count": null,
   "id": "a840d711",
   "metadata": {},
   "outputs": [],
   "source": []
  },
  {
   "cell_type": "code",
   "execution_count": null,
   "id": "a98a88a2",
   "metadata": {},
   "outputs": [],
   "source": []
  }
 ],
 "metadata": {
  "kernelspec": {
   "display_name": "Python 3 (ipykernel)",
   "language": "python",
   "name": "python3"
  },
  "language_info": {
   "codemirror_mode": {
    "name": "ipython",
    "version": 3
   },
   "file_extension": ".py",
   "mimetype": "text/x-python",
   "name": "python",
   "nbconvert_exporter": "python",
   "pygments_lexer": "ipython3",
   "version": "3.9.7"
  }
 },
 "nbformat": 4,
 "nbformat_minor": 5
}
