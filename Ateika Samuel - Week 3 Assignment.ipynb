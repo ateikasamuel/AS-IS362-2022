{
 "cells": [
  {
   "cell_type": "code",
   "execution_count": 1,
   "id": "49552505",
   "metadata": {},
   "outputs": [
    {
     "data": {
      "text/plain": [
       "<AxesSubplot:>"
      ]
     },
     "execution_count": 1,
     "metadata": {},
     "output_type": "execute_result"
    },
    {
     "data": {
      "image/png": "[encoded data removed]",
      "text/plain": [
       "<Figure size 432x288 with 1 Axes>"
      ]
     },
     "metadata": {},
     "output_type": "display_data"
    }
   ],
   "source": [
    "# Import pandas and numpy, DataFrame / Series\n",
    "\n",
    "import pandas as pd\n",
    "import numpy as np\n",
    "from pandas import DataFrame, Series\n",
    "\n",
    "# Set some panda options\n",
    "pd.set_option ('display.notebook_repr_html', False)\n",
    "pd.set_option ('display.max_columns', 10)\n",
    "pd.set_option ('display.max_rows', 10)\n",
    "\n",
    "# Add items for matplotlib\n",
    "%matplotlib inline\n",
    "import matplotlib\n",
    "matplotlib.style.use('ggplot')\n",
    "\n",
    "\n",
    "# Create a panda Series Object who's index is a series of dates\n",
    "# between the two specified dates\n",
    "dates = pd.date_range ('2022-01-01', '2022-01-06')\n",
    "\n",
    "dates\n",
    "\n",
    "# Create a panda Series with values representing cumulative miles traveled\n",
    "# at the end of each day for each date in the index\n",
    "miles = Series ([55, 120, 185, 250, 315, 380])\n",
    "\n",
    "miles\n",
    "\n",
    "# Create a DataFrame from the panda Series Object miles\n",
    "# and give them column names \n",
    "\n",
    "df = pd.DataFrame(list(zip( miles )),\n",
    "                        index = dates, \n",
    "                        columns = ['Cumulative Miles'])\n",
    "\n",
    "# Display the graph from the DataFrame\n",
    "df\n",
    "df.plot.bar()"
   ]
  },
  {
   "cell_type": "code",
   "execution_count": null,
   "id": "18566afa",
   "metadata": {},
   "outputs": [],
   "source": []
  },
  {
   "cell_type": "code",
   "execution_count": null,
   "id": "4b663160",
   "metadata": {},
   "outputs": [],
   "source": []
  },
  {
   "cell_type": "code",
   "execution_count": null,
   "id": "0cb03c05",
   "metadata": {},
   "outputs": [],
   "source": []
  }
 ],
 "metadata": {
  "kernelspec": {
   "display_name": "Python 3 (ipykernel)",
   "language": "python",
   "name": "python3"
  },
  "language_info": {
   "codemirror_mode": {
    "name": "ipython",
    "version": 3
   },
   "file_extension": ".py",
   "mimetype": "text/x-python",
   "name": "python",
   "nbconvert_exporter": "python",
   "pygments_lexer": "ipython3",
   "version": "3.9.7"
  }
 },
 "nbformat": 4,
 "nbformat_minor": 5
}
